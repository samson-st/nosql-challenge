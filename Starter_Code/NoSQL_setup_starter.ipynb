{
 "cells": [
  {
   "cell_type": "markdown",
   "id": "9a57c4c6",
   "metadata": {},
   "source": [
    "# Eat Safe, Love"
   ]
  },
  {
   "cell_type": "markdown",
   "id": "064ef857",
   "metadata": {},
   "source": [
    "## Part 1: Database and Jupyter Notebook Set Up"
   ]
  },
  {
   "cell_type": "markdown",
   "id": "664e3c1f",
   "metadata": {},
   "source": [
    "Import the data provided in the `establishments.json` file from your Terminal. Name the database `uk_food` and the collection `establishments`.\n",
    "\n",
    "Within this markdown cell, copy the line of text you used to import the data from your Terminal. This way, future analysts will be able to repeat your process.\n",
    "\n",
    "e.g.: Import the dataset with `YOUR IMPORT TEXT HERE`"
   ]
  },
  {
   "cell_type": "code",
   "execution_count": 13,
   "id": "3ecdd008",
   "metadata": {},
   "outputs": [],
   "source": [
    "# Import dependencies\n",
    "from pymongo import MongoClient\n",
    "from pprint import pprint"
   ]
  },
  {
   "cell_type": "code",
   "execution_count": 14,
   "id": "59390c4a",
   "metadata": {},
   "outputs": [],
   "source": [
    "# Create an instance of MongoClient\n",
    "mongo = MongoClient(port=27017)"
   ]
  },
  {
   "cell_type": "code",
   "execution_count": 15,
   "id": "7f9ececa",
   "metadata": {},
   "outputs": [
    {
     "name": "stdout",
     "output_type": "stream",
     "text": [
      "['admin', 'classDB', 'config', 'epa', 'local', 'petsitly_marketing', 'uk_food']\n"
     ]
    }
   ],
   "source": [
    "# confirm that our new database was created\n",
    "print(mongo.list_database_names())"
   ]
  },
  {
   "cell_type": "code",
   "execution_count": 16,
   "id": "71e373c1",
   "metadata": {},
   "outputs": [],
   "source": [
    "# assign the uk_food database to a variable name\n",
    "db = mongo['uk_food']"
   ]
  },
  {
   "cell_type": "code",
   "execution_count": 17,
   "id": "ef1b89ed",
   "metadata": {},
   "outputs": [
    {
     "name": "stdout",
     "output_type": "stream",
     "text": [
      "['establishments']\n"
     ]
    }
   ],
   "source": [
    "# review the collections in our new database\n",
    "print(db.list_collection_names())"
   ]
  },
  {
   "cell_type": "code",
   "execution_count": 18,
   "id": "6a0d92df",
   "metadata": {},
   "outputs": [
    {
     "name": "stdout",
     "output_type": "stream",
     "text": [
      "{'_id': ObjectId('64d82e799a15b3b69c2c22cf'), 'BusinessName': 'Penang Flavours', 'BusinessType': 'Restaurant/Cafe/Canteen', 'BusinessTypeID': '', 'AddressLine1': 'Penang Flavours', 'AddressLine2': '146A Plumstead Rd', 'AddressLine3': 'London', 'AddressLine4': '', 'PostCode': 'SE18 7DY', 'Phone': '', 'LocalAuthorityCode': '511', 'LocalAuthorityName': 'Greenwich', 'LocalAuthorityWebSite': 'http://www.royalgreenwich.gov.uk', 'LocalAuthorityEmailAddress': 'health@royalgreenwich.gov.uk', 'scores': {'Hygiene': '', 'Structural': '', 'ConfidenceInManagement': ''}, 'SchemeType': 'FHRS', 'geocode': {'longitude': '0.08384000', 'latitude': '51.49014200'}, 'RightToReply': '', 'Distance': 4623.972328074718, 'NewRatingPending': True}\n"
     ]
    }
   ],
   "source": [
    "# review a document in the establishments collection\n",
    "print(db.establishments.find_one())"
   ]
  },
  {
   "cell_type": "code",
   "execution_count": 19,
   "id": "11c9f11b",
   "metadata": {},
   "outputs": [],
   "source": [
    "# assign the collection to a variable\n",
    "establishments = db['establishments']"
   ]
  },
  {
   "cell_type": "markdown",
   "id": "d5671434",
   "metadata": {},
   "source": [
    "## Part 2: Update the Database"
   ]
  },
  {
   "cell_type": "markdown",
   "id": "314bd884",
   "metadata": {},
   "source": [
    "1. An exciting new halal restaurant just opened in Greenwich, but hasn't been rated yet. The magazine has asked you to include it in your analysis. Add the following restaurant \"Penang Flavours\" to the database."
   ]
  },
  {
   "cell_type": "code",
   "execution_count": 20,
   "id": "c2da7648",
   "metadata": {},
   "outputs": [],
   "source": [
    "# Create a dictionary for the new restaurant data\n",
    "pf ={\n",
    "    \"BusinessName\":\"Penang Flavours\",\n",
    "    \"BusinessType\":\"Restaurant/Cafe/Canteen\",\n",
    "    \"BusinessTypeID\":\"\",\n",
    "    \"AddressLine1\":\"Penang Flavours\",\n",
    "    \"AddressLine2\":\"146A Plumstead Rd\",\n",
    "    \"AddressLine3\":\"London\",\n",
    "    \"AddressLine4\":\"\",\n",
    "    \"PostCode\":\"SE18 7DY\",\n",
    "    \"Phone\":\"\",\n",
    "    \"LocalAuthorityCode\":\"511\",\n",
    "    \"LocalAuthorityName\":\"Greenwich\",\n",
    "    \"LocalAuthorityWebSite\":\"http://www.royalgreenwich.gov.uk\",\n",
    "    \"LocalAuthorityEmailAddress\":\"health@royalgreenwich.gov.uk\",\n",
    "    \"scores\":{\n",
    "        \"Hygiene\":\"\",\n",
    "        \"Structural\":\"\",\n",
    "        \"ConfidenceInManagement\":\"\"\n",
    "    },\n",
    "    \"SchemeType\":\"FHRS\",\n",
    "    \"geocode\":{\n",
    "        \"longitude\":\"0.08384000\",\n",
    "        \"latitude\":\"51.49014200\"\n",
    "    },\n",
    "    \"RightToReply\":\"\",\n",
    "    \"Distance\":4623.9723280747176,\n",
    "    \"NewRatingPending\":True\n",
    "}"
   ]
  },
  {
   "cell_type": "code",
   "execution_count": 21,
   "id": "a6e5cece",
   "metadata": {},
   "outputs": [
    {
     "data": {
      "text/plain": [
       "<pymongo.results.InsertOneResult at 0x22c8142d8b0>"
      ]
     },
     "execution_count": 21,
     "metadata": {},
     "output_type": "execute_result"
    }
   ],
   "source": [
    "# Insert the new restaurant into the collection\n",
    "establishments.insert_one(pf)"
   ]
  },
  {
   "cell_type": "code",
   "execution_count": 22,
   "id": "63bb10f9",
   "metadata": {},
   "outputs": [
    {
     "name": "stdout",
     "output_type": "stream",
     "text": [
      "{'AddressLine1': 'Penang Flavours',\n",
      " 'AddressLine2': '146A Plumstead Rd',\n",
      " 'AddressLine3': 'London',\n",
      " 'AddressLine4': '',\n",
      " 'BusinessName': 'Penang Flavours',\n",
      " 'BusinessType': 'Restaurant/Cafe/Canteen',\n",
      " 'BusinessTypeID': '',\n",
      " 'Distance': 4623.972328074718,\n",
      " 'LocalAuthorityCode': '511',\n",
      " 'LocalAuthorityEmailAddress': 'health@royalgreenwich.gov.uk',\n",
      " 'LocalAuthorityName': 'Greenwich',\n",
      " 'LocalAuthorityWebSite': 'http://www.royalgreenwich.gov.uk',\n",
      " 'NewRatingPending': True,\n",
      " 'Phone': '',\n",
      " 'PostCode': 'SE18 7DY',\n",
      " 'RightToReply': '',\n",
      " 'SchemeType': 'FHRS',\n",
      " '_id': ObjectId('64d82e799a15b3b69c2c22cf'),\n",
      " 'geocode': {'latitude': '51.49014200', 'longitude': '0.08384000'},\n",
      " 'scores': {'ConfidenceInManagement': '', 'Hygiene': '', 'Structural': ''}}\n"
     ]
    }
   ],
   "source": [
    "# Check that the new restaurant was inserted\n",
    "pprint(establishments.find_one({\"BusinessName\" : \"Penang Flavours\"}))"
   ]
  },
  {
   "cell_type": "markdown",
   "id": "0ef4395a",
   "metadata": {},
   "source": [
    "2. Find the BusinessTypeID for \"Restaurant/Cafe/Canteen\" and return only the `BusinessTypeID` and `BusinessType` fields."
   ]
  },
  {
   "cell_type": "code",
   "execution_count": 24,
   "id": "93c63829",
   "metadata": {},
   "outputs": [
    {
     "name": "stdout",
     "output_type": "stream",
     "text": [
      "{'BusinessType': 'Restaurant/Cafe/Canteen',\n",
      " 'BusinessTypeID': '',\n",
      " '_id': ObjectId('64d82e799a15b3b69c2c22cf')}\n",
      "{'BusinessType': 'Restaurant/Cafe/Canteen',\n",
      " 'BusinessTypeID': '',\n",
      " '_id': ObjectId('64d82eb79a15b3b69c2c22d1')}\n"
     ]
    },
    {
     "ename": "IndexError",
     "evalue": "no such item for Cursor instance",
     "output_type": "error",
     "traceback": [
      "\u001b[1;31m---------------------------------------------------------------------------\u001b[0m",
      "\u001b[1;31mIndexError\u001b[0m                                Traceback (most recent call last)",
      "\u001b[1;32m~\\AppData\\Local\\Temp\\ipykernel_28184\\3858916208.py\u001b[0m in \u001b[0;36m<module>\u001b[1;34m\u001b[0m\n\u001b[0;32m      6\u001b[0m \u001b[1;33m\u001b[0m\u001b[0m\n\u001b[0;32m      7\u001b[0m \u001b[1;32mfor\u001b[0m \u001b[0mi\u001b[0m \u001b[1;32min\u001b[0m \u001b[0mrange\u001b[0m\u001b[1;33m(\u001b[0m\u001b[1;36m5\u001b[0m\u001b[1;33m)\u001b[0m\u001b[1;33m:\u001b[0m\u001b[1;33m\u001b[0m\u001b[1;33m\u001b[0m\u001b[0m\n\u001b[1;32m----> 8\u001b[1;33m     \u001b[0mpprint\u001b[0m\u001b[1;33m(\u001b[0m\u001b[0mresults\u001b[0m\u001b[1;33m[\u001b[0m\u001b[0mi\u001b[0m\u001b[1;33m]\u001b[0m\u001b[1;33m)\u001b[0m\u001b[1;33m\u001b[0m\u001b[1;33m\u001b[0m\u001b[0m\n\u001b[0m",
      "\u001b[1;32m~\\anaconda3\\lib\\site-packages\\pymongo\\cursor.py\u001b[0m in \u001b[0;36m__getitem__\u001b[1;34m(self, index)\u001b[0m\n\u001b[0;32m    758\u001b[0m             \u001b[1;32mfor\u001b[0m \u001b[0mdoc\u001b[0m \u001b[1;32min\u001b[0m \u001b[0mclone\u001b[0m\u001b[1;33m:\u001b[0m\u001b[1;33m\u001b[0m\u001b[1;33m\u001b[0m\u001b[0m\n\u001b[0;32m    759\u001b[0m                 \u001b[1;32mreturn\u001b[0m \u001b[0mdoc\u001b[0m\u001b[1;33m\u001b[0m\u001b[1;33m\u001b[0m\u001b[0m\n\u001b[1;32m--> 760\u001b[1;33m             \u001b[1;32mraise\u001b[0m \u001b[0mIndexError\u001b[0m\u001b[1;33m(\u001b[0m\u001b[1;34m\"no such item for Cursor instance\"\u001b[0m\u001b[1;33m)\u001b[0m\u001b[1;33m\u001b[0m\u001b[1;33m\u001b[0m\u001b[0m\n\u001b[0m\u001b[0;32m    761\u001b[0m         \u001b[1;32mraise\u001b[0m \u001b[0mTypeError\u001b[0m\u001b[1;33m(\u001b[0m\u001b[1;34m\"index %r cannot be applied to Cursor instances\"\u001b[0m \u001b[1;33m%\u001b[0m \u001b[0mindex\u001b[0m\u001b[1;33m)\u001b[0m\u001b[1;33m\u001b[0m\u001b[1;33m\u001b[0m\u001b[0m\n\u001b[0;32m    762\u001b[0m \u001b[1;33m\u001b[0m\u001b[0m\n",
      "\u001b[1;31mIndexError\u001b[0m: no such item for Cursor instance"
     ]
    }
   ],
   "source": [
    "# Find the BusinessTypeID for \"Restaurant/Cafe/Canteen\" and return only the BusinessTypeID and BusinessType fields\n",
    "query = {\"BusinessType\" : \"Restaurant/Cafe/Canteen\"}\n",
    "fields = {'BusinessTypeID' : 1 , 'BusinessType' : 1}\n",
    "\n",
    "results = establishments.find(query,fields)\n",
    "\n",
    "for i in range(5):\n",
    "    pprint(results[i])"
   ]
  },
  {
   "cell_type": "markdown",
   "id": "4e570caf",
   "metadata": {},
   "source": [
    "3. Update the new restaurant with the `BusinessTypeID` you found."
   ]
  },
  {
   "cell_type": "code",
   "execution_count": 25,
   "id": "7f599f3d",
   "metadata": {},
   "outputs": [
    {
     "data": {
      "text/plain": [
       "<pymongo.results.UpdateResult at 0x22c8142d2b0>"
      ]
     },
     "execution_count": 25,
     "metadata": {},
     "output_type": "execute_result"
    }
   ],
   "source": [
    "# Update the new restaurant with the correct BusinessTypeID\n",
    "establishments.update_one(\n",
    "    {'BusinessName': 'Penang Flavours'},\n",
    "    {'$set': \n",
    "        {'BusinessTypeID': 1}}\n",
    ")"
   ]
  },
  {
   "cell_type": "code",
   "execution_count": 26,
   "id": "a6ad16f7",
   "metadata": {},
   "outputs": [
    {
     "data": {
      "text/plain": [
       "{'_id': ObjectId('64d82e799a15b3b69c2c22cf'),\n",
       " 'BusinessType': 'Restaurant/Cafe/Canteen',\n",
       " 'BusinessTypeID': 1,\n",
       " 'BusinessName': 'Penang Flavours'}"
      ]
     },
     "execution_count": 26,
     "metadata": {},
     "output_type": "execute_result"
    }
   ],
   "source": [
    "# Confirm that the new restaurant was updated\n",
    "query = {\"BusinessName\" : \"Penang Flavours\"}\n",
    "\n",
    "fields = {\"BusinessName\" : \"Penang Flavours\" , 'BusinessTypeID' : 1 , 'BusinessType' : 1 }\n",
    "\n",
    "establishments.find_one(query , fields)"
   ]
  },
  {
   "cell_type": "markdown",
   "id": "67281254",
   "metadata": {},
   "source": [
    "4. The magazine is not interested in any establishments in Dover, so check how many documents contain the Dover Local Authority. Then, remove any establishments within the Dover Local Authority from the database, and check the number of documents to ensure they were deleted."
   ]
  },
  {
   "cell_type": "code",
   "execution_count": 27,
   "id": "768474a6",
   "metadata": {},
   "outputs": [
    {
     "ename": "IndexError",
     "evalue": "no such item for Cursor instance",
     "output_type": "error",
     "traceback": [
      "\u001b[1;31m---------------------------------------------------------------------------\u001b[0m",
      "\u001b[1;31mIndexError\u001b[0m                                Traceback (most recent call last)",
      "\u001b[1;32m~\\AppData\\Local\\Temp\\ipykernel_28184\\1794506386.py\u001b[0m in \u001b[0;36m<module>\u001b[1;34m\u001b[0m\n\u001b[0;32m      5\u001b[0m \u001b[1;33m\u001b[0m\u001b[0m\n\u001b[0;32m      6\u001b[0m \u001b[1;32mfor\u001b[0m \u001b[0mi\u001b[0m \u001b[1;32min\u001b[0m \u001b[0mrange\u001b[0m\u001b[1;33m(\u001b[0m\u001b[1;36m5\u001b[0m\u001b[1;33m)\u001b[0m\u001b[1;33m:\u001b[0m\u001b[1;33m\u001b[0m\u001b[1;33m\u001b[0m\u001b[0m\n\u001b[1;32m----> 7\u001b[1;33m     \u001b[0mpprint\u001b[0m\u001b[1;33m(\u001b[0m\u001b[0mresults\u001b[0m\u001b[1;33m[\u001b[0m\u001b[0mi\u001b[0m\u001b[1;33m]\u001b[0m\u001b[1;33m)\u001b[0m\u001b[1;33m\u001b[0m\u001b[1;33m\u001b[0m\u001b[0m\n\u001b[0m",
      "\u001b[1;32m~\\anaconda3\\lib\\site-packages\\pymongo\\cursor.py\u001b[0m in \u001b[0;36m__getitem__\u001b[1;34m(self, index)\u001b[0m\n\u001b[0;32m    758\u001b[0m             \u001b[1;32mfor\u001b[0m \u001b[0mdoc\u001b[0m \u001b[1;32min\u001b[0m \u001b[0mclone\u001b[0m\u001b[1;33m:\u001b[0m\u001b[1;33m\u001b[0m\u001b[1;33m\u001b[0m\u001b[0m\n\u001b[0;32m    759\u001b[0m                 \u001b[1;32mreturn\u001b[0m \u001b[0mdoc\u001b[0m\u001b[1;33m\u001b[0m\u001b[1;33m\u001b[0m\u001b[0m\n\u001b[1;32m--> 760\u001b[1;33m             \u001b[1;32mraise\u001b[0m \u001b[0mIndexError\u001b[0m\u001b[1;33m(\u001b[0m\u001b[1;34m\"no such item for Cursor instance\"\u001b[0m\u001b[1;33m)\u001b[0m\u001b[1;33m\u001b[0m\u001b[1;33m\u001b[0m\u001b[0m\n\u001b[0m\u001b[0;32m    761\u001b[0m         \u001b[1;32mraise\u001b[0m \u001b[0mTypeError\u001b[0m\u001b[1;33m(\u001b[0m\u001b[1;34m\"index %r cannot be applied to Cursor instances\"\u001b[0m \u001b[1;33m%\u001b[0m \u001b[0mindex\u001b[0m\u001b[1;33m)\u001b[0m\u001b[1;33m\u001b[0m\u001b[1;33m\u001b[0m\u001b[0m\n\u001b[0;32m    762\u001b[0m \u001b[1;33m\u001b[0m\u001b[0m\n",
      "\u001b[1;31mIndexError\u001b[0m: no such item for Cursor instance"
     ]
    }
   ],
   "source": [
    "# Find how many documents have LocalAuthorityName as \"Dover\"\n",
    "query = {'LocalAuthorityName' : 'Dover'}\n",
    "\n",
    "results = establishments.find(query)\n",
    "\n",
    "for i in range(5):\n",
    "    pprint(results[i])"
   ]
  },
  {
   "cell_type": "code",
   "execution_count": 28,
   "id": "a11d5f1b",
   "metadata": {},
   "outputs": [
    {
     "data": {
      "text/plain": [
       "<pymongo.results.DeleteResult at 0x22c8142d220>"
      ]
     },
     "execution_count": 28,
     "metadata": {},
     "output_type": "execute_result"
    }
   ],
   "source": [
    "# Delete all documents where LocalAuthorityName is \"Dover\"\n",
    "establishments.delete_many(\n",
    "    {'LocalAuthorityName': 'Dover'}\n",
    ")"
   ]
  },
  {
   "cell_type": "code",
   "execution_count": 29,
   "id": "2a51aba0",
   "metadata": {},
   "outputs": [
    {
     "name": "stdout",
     "output_type": "stream",
     "text": [
      "None\n"
     ]
    }
   ],
   "source": [
    "# Check if any remaining documents include Dover\n",
    "query = {'LocalAuthorityName' : {'$regex' : 'Dover'}}\n",
    "\n",
    "pprint(establishments.find_one(query))"
   ]
  },
  {
   "cell_type": "code",
   "execution_count": 30,
   "id": "8c356f7b",
   "metadata": {},
   "outputs": [
    {
     "name": "stdout",
     "output_type": "stream",
     "text": [
      "{'AddressLine1': 'Penang Flavours',\n",
      " 'AddressLine2': '146A Plumstead Rd',\n",
      " 'AddressLine3': 'London',\n",
      " 'AddressLine4': '',\n",
      " 'BusinessName': 'Penang Flavours',\n",
      " 'BusinessType': 'Restaurant/Cafe/Canteen',\n",
      " 'BusinessTypeID': 1,\n",
      " 'Distance': 4623.972328074718,\n",
      " 'LocalAuthorityCode': '511',\n",
      " 'LocalAuthorityEmailAddress': 'health@royalgreenwich.gov.uk',\n",
      " 'LocalAuthorityName': 'Greenwich',\n",
      " 'LocalAuthorityWebSite': 'http://www.royalgreenwich.gov.uk',\n",
      " 'NewRatingPending': True,\n",
      " 'Phone': '',\n",
      " 'PostCode': 'SE18 7DY',\n",
      " 'RightToReply': '',\n",
      " 'SchemeType': 'FHRS',\n",
      " '_id': ObjectId('64d82e799a15b3b69c2c22cf'),\n",
      " 'geocode': {'latitude': '51.49014200', 'longitude': '0.08384000'},\n",
      " 'scores': {'ConfidenceInManagement': '', 'Hygiene': '', 'Structural': ''}}\n"
     ]
    }
   ],
   "source": [
    "# Check that other documents remain with 'find_one'\n",
    "pprint(establishments.find_one({}))"
   ]
  },
  {
   "cell_type": "markdown",
   "id": "e9f1662d",
   "metadata": {},
   "source": [
    "5. Some of the number values are stored as strings, when they should be stored as numbers."
   ]
  },
  {
   "cell_type": "markdown",
   "id": "c46df2df",
   "metadata": {},
   "source": [
    "Use `update_many` to convert `latitude` and `longitude` to decimal numbers."
   ]
  },
  {
   "cell_type": "code",
   "execution_count": 31,
   "id": "fd4112ce",
   "metadata": {},
   "outputs": [
    {
     "data": {
      "text/plain": [
       "<pymongo.results.UpdateResult at 0x22c8142d5b0>"
      ]
     },
     "execution_count": 31,
     "metadata": {},
     "output_type": "execute_result"
    }
   ],
   "source": [
    "# Change the data type from String to Decimal for longitude and latitude\n",
    "establishments.update_many({} , [{'$set': {'geocode.longitude' : {'$toDecimal' : '$geocode.longitude'}}}])"
   ]
  },
  {
   "cell_type": "markdown",
   "id": "142e319c",
   "metadata": {},
   "source": [
    "Use `update_many` to convert `RatingValue` to integer numbers."
   ]
  },
  {
   "cell_type": "code",
   "execution_count": 32,
   "id": "04430a5b",
   "metadata": {},
   "outputs": [
    {
     "data": {
      "text/plain": [
       "<pymongo.results.UpdateResult at 0x22c8138adc0>"
      ]
     },
     "execution_count": 32,
     "metadata": {},
     "output_type": "execute_result"
    }
   ],
   "source": [
    "# Set non 1-5 Rating Values to Null\n",
    "non_ratings = [\"AwaitingInspection\", \"Awaiting Inspection\", \"AwaitingPublication\", \"Pass\", \"Exempt\"]\n",
    "establishments.update_many({\"RatingValue\": {\"$in\": non_ratings}}, [ {'$set':{ \"RatingValue\" : None}} ])"
   ]
  },
  {
   "cell_type": "code",
   "execution_count": 33,
   "id": "92524ccc",
   "metadata": {},
   "outputs": [
    {
     "data": {
      "text/plain": [
       "<pymongo.results.UpdateResult at 0x22c8138a7c0>"
      ]
     },
     "execution_count": 33,
     "metadata": {},
     "output_type": "execute_result"
    }
   ],
   "source": [
    "# Change the data type from String to Integer for RatingValue\n",
    "establishments.update_many({} , [{'$set': {\"geocode.latitude\" : {'$toDecimal' : \"$geocode.latitude\"}}}])"
   ]
  },
  {
   "cell_type": "code",
   "execution_count": 34,
   "id": "0deacaf9",
   "metadata": {},
   "outputs": [
    {
     "name": "stdout",
     "output_type": "stream",
     "text": [
      "{'_id': ObjectId('64d82e799a15b3b69c2c22cf'),\n",
      " 'geocode': {'latitude': Decimal128('51.49014200'),\n",
      "             'longitude': Decimal128('0.08384000')}}\n"
     ]
    }
   ],
   "source": [
    "# Check that the coordinates and rating value are now numbers\n",
    "fields = {'geocode'}\n",
    "pprint(establishments.find_one({} , fields))"
   ]
  },
  {
   "cell_type": "code",
   "execution_count": null,
   "id": "504b6a88",
   "metadata": {},
   "outputs": [],
   "source": []
  }
 ],
 "metadata": {
  "kernelspec": {
   "display_name": "Python 3 (ipykernel)",
   "language": "python",
   "name": "python3"
  },
  "language_info": {
   "codemirror_mode": {
    "name": "ipython",
    "version": 3
   },
   "file_extension": ".py",
   "mimetype": "text/x-python",
   "name": "python",
   "nbconvert_exporter": "python",
   "pygments_lexer": "ipython3",
   "version": "3.9.13"
  }
 },
 "nbformat": 4,
 "nbformat_minor": 5
}
